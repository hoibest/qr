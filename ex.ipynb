{
 "cells": [
  {
   "cell_type": "markdown",
   "metadata": {},
   "source": [
    "## Study Design"
   ]
  },
  {
   "cell_type": "code",
   "execution_count": 74,
   "metadata": {},
   "outputs": [],
   "source": [
    "import pandas as pd\n",
    "from scipy import stats\n",
    "from matplotlib import pyplot as plt"
   ]
  },
  {
   "cell_type": "markdown",
   "metadata": {},
   "source": [
    "### Overall aim \n",
    "- Link multimodal imaging and FRB! registry’s clinical data to describe the temporal relationship between the **first loss of foveal centre point**, **visual decline**, and **clinical diagnosis of *subfoveal macular atrophy*** in routine clinical practice. \n",
    "\n",
    "### Hypothesis \n",
    "- I want to know whether the first loss of foveal centre point due to macular atrophy and visual decline occur simultaneously *(Hypothesis 1)*. \n",
    "\n",
    "- If the two events do not occur simultaneously, I want to know whether clinicians from FRB! registry diagnose *subfoveal macular atrophy* based on the visual decline or the first loss of foveal centre point *(Hypothesis 2)*. \n"
   ]
  },
  {
   "cell_type": "markdown",
   "metadata": {},
   "source": [
    "### Definition \n",
    "\n",
    "- **Centre point involvement**: Time when the macular atrophy first involves the foveal centre point. \n",
    "\n",
    "- **Visual acuity decline**: Time when the patient’s visual acuity drops significantly from last visit.\n",
    "\n",
    "- **Clinical diagnosis of *subfoveal macular atrophy***: Time when the clinician diagnoses the patient with *subfoveal macular atrophy*.\n",
    "\n",
    "### Overall schema\n",
    "*Note that this schema assumes centre point involvement occurs before clinical diagnosis and vision loss.*\n",
    "\n",
    "![image info](./Picture.png)\n",
    "\n",
    "### Methodology for obtaining and linking imaging data and \n",
    "\n",
    "- **Centre point involvement**: Dual grading and establish the time when the first loss of foveal centre point occured.\n",
    "\n",
    "- **Visual acuity decline**: Obtain longitudinal visual acuity data and statistically determine the time when significant visual acuity decline occured. \n",
    "\n",
    "- **Clinical diagnosis of *subfoveal macular atrophy***: Obtain longitudinal clinical data, including free text notes, and determine the time when the clinician first diagnose the patient with *subfoveal macular atrophy*. \n"
   ]
  },
  {
   "cell_type": "markdown",
   "metadata": {},
   "source": [
    "### Sample data\n",
    "![image info](./Table1.png)\n"
   ]
  },
  {
   "cell_type": "code",
   "execution_count": 75,
   "metadata": {},
   "outputs": [],
   "source": [
    "# Read CSV data and convert into a Pandas Dataframe \n",
    "data = pd.read_csv('file_name.csv')\n",
    "\n",
    "\n",
    "# Manually put data in here:\n",
    "#data = pd.DataFrame({\n",
    "#    \"Patient\": [1,2,3,4,5,6,7,8,9,10,11,12,13,14,15],\n",
    "#    \"First foveal centre loss (months)\": [2,3,4,1,3,4,5,2,4,5,6,3,7,8,9],\n",
    "#    \"VA decline (months)\": [5,8,5,2,3,7,6,2,3,6,9,9,7,12,11],\n",
    "#    \"Clinical diagnosis (months)\": [5,4,4,2,3,7,6,2,3,6,9,9,7,8,10]\n",
    "#})"
   ]
  },
  {
   "cell_type": "code",
   "execution_count": null,
   "metadata": {},
   "outputs": [],
   "source": [
    "print(data)"
   ]
  },
  {
   "cell_type": "code",
   "execution_count": 77,
   "metadata": {},
   "outputs": [],
   "source": [
    "# Calculate the differences between time points\n",
    "data[\"Centre Point Loss to VA Decline\"] = data[\"VA decline (months)\"] - data[\"First foveal centre loss (months)\"]\n",
    "data[\"Centre Point Loss to Clinical Diagnosis\"] = data[\"Clinical diagnosis (months)\"] - data[\"First foveal centre loss (months)\"]\n",
    "data[\"VA Decline to Clinical Diagnosis\"] = data[\"Clinical diagnosis (months)\"] - data[\"VA decline (months)\"]"
   ]
  },
  {
   "cell_type": "markdown",
   "metadata": {},
   "source": [
    "### Description statistics\n",
    "\n",
    "1. Obtain mean time interval between two events \n",
    "2. Plot a timeline using the mean intervals"
   ]
  },
  {
   "cell_type": "code",
   "execution_count": 78,
   "metadata": {},
   "outputs": [
    {
     "name": "stdout",
     "output_type": "stream",
     "text": [
      "Mean Centre Point Loss to Clinical Diagnosis:  1.2666666666666666 \n",
      "Std Centre Point Loss to Clinical Diagnosis:  1.791514389985135\n",
      "\n",
      "Mean Centre Point Loss to VA Decline:  1.9333333333333333 \n",
      "Std Centre Point Loss to VA Decline:  2.016597794967223\n",
      "\n",
      "Mean VA Decline to Clinical Diagnosis:  -0.6666666666666666 \n",
      "Std VA Decline to Clinical Diagnosis:  1.397276262011544\n"
     ]
    },
    {
     "data": {
      "image/png": "[encoded data removed]",
      "text/plain": [
       "<Figure size 720x72 with 1 Axes>"
      ]
     },
     "metadata": {
      "needs_background": "light"
     },
     "output_type": "display_data"
    }
   ],
   "source": [
    "# Calculate the mean differences between time points\n",
    "mean_disease_to_diagnosis = data[\"Centre Point Loss to Clinical Diagnosis\"].mean()\n",
    "mean_va_to_diagnosis = data[\"VA Decline to Clinical Diagnosis\"].mean()\n",
    "mean_disease_to_va = data[\"Centre Point Loss to VA Decline\"].mean()\n",
    "\n",
    "\n",
    "# Plot the timeline based on mean differences between time points\n",
    "events =  [\"First loss of foveal centre\", \"Clinical Diagnosis\", \"VA Decline\"]\n",
    "\n",
    "formatted_mean_disease_to_diagnosis = round(mean_disease_to_diagnosis,2)\n",
    "formatted_mean_disease_to_va = round(mean_disease_to_va,2)\n",
    "\n",
    "print('Mean Centre Point Loss to Clinical Diagnosis: ',data[\"Centre Point Loss to Clinical Diagnosis\"].mean(),'\\nStd Centre Point Loss to Clinical Diagnosis: ',data[\"Centre Point Loss to Clinical Diagnosis\"].std())\n",
    "\n",
    "print('\\nMean Centre Point Loss to VA Decline: ',data[\"Centre Point Loss to VA Decline\"].mean(),'\\nStd Centre Point Loss to VA Decline: ',data[\"Centre Point Loss to VA Decline\"].std())\n",
    "\n",
    "print('\\nMean VA Decline to Clinical Diagnosis: ',data[\"VA Decline to Clinical Diagnosis\"].mean(),'\\nStd VA Decline to Clinical Diagnosis: ',data[\"VA Decline to Clinical Diagnosis\"].std())\n",
    "\n",
    "relative_positions = [0, abs(formatted_mean_disease_to_diagnosis), abs(formatted_mean_disease_to_va)]  \n",
    "\n",
    "# Plot the timeline\n",
    "plt.figure(figsize=(10, 1))\n",
    "plt.plot(relative_positions, [0] * len(relative_positions), marker='o', markersize=10, linestyle='')\n",
    "plt.xticks(ticks=relative_positions, labels=events)\n",
    "plt.xlabel(\"Event (month)\")\n",
    "plt.yticks([])\n",
    "plt.title(\"Timeline of Events\")\n",
    "\n",
    "# Add text annotations for relative positions\n",
    "for i, pos in enumerate(relative_positions):\n",
    "    plt.text(pos, 0.02, str(pos), ha='center', va='bottom')\n",
    "\n",
    "plt.grid(axis='x')\n",
    "plt.show()"
   ]
  },
  {
   "cell_type": "code",
   "execution_count": 79,
   "metadata": {},
   "outputs": [
    {
     "name": "stdout",
     "output_type": "stream",
     "text": [
      "Mean Centre Point Loss to Clinical Diagnosis:  1.2666666666666666 \n",
      "Std Centre Point Loss to Clinical Diagnosis:  1.791514389985135\n",
      "\n",
      "Mean Centre Point Loss to VA Decline:  1.9333333333333333 \n",
      "Std Centre Point Loss to VA Decline:  2.016597794967223\n",
      "\n",
      "Mean VA Decline to Clinical Diagnosis:  -0.6666666666666666 \n",
      "Std VA Decline to Clinical Diagnosis:  1.397276262011544\n"
     ]
    }
   ],
   "source": [
    "print('Mean Centre Point Loss to Clinical Diagnosis: ',data[\"Centre Point Loss to Clinical Diagnosis\"].mean(),'\\nStd Centre Point Loss to Clinical Diagnosis: ',data[\"Centre Point Loss to Clinical Diagnosis\"].std())\n",
    "\n",
    "print('\\nMean Centre Point Loss to VA Decline: ',data[\"Centre Point Loss to VA Decline\"].mean(),'\\nStd Centre Point Loss to VA Decline: ',data[\"Centre Point Loss to VA Decline\"].std())\n",
    "\n",
    "print('\\nMean VA Decline to Clinical Diagnosis: ',data[\"VA Decline to Clinical Diagnosis\"].mean(),'\\nStd VA Decline to Clinical Diagnosis: ',data[\"VA Decline to Clinical Diagnosis\"].std())"
   ]
  },
  {
   "cell_type": "markdown",
   "metadata": {},
   "source": [
    "## Hypothesis 1\n",
    "Do the first foveal centre loss due to macular atrophy and visual acuity loss occur simultaneously?\n",
    "### 1. Statistical analysis - Contingency table\n",
    "Check whether foveal centre loss happen before, simultaneously with, or after VA loss"
   ]
  },
  {
   "cell_type": "code",
   "execution_count": 80,
   "metadata": {},
   "outputs": [
    {
     "data": {
      "image/png": "[encoded data removed]",
      "text/plain": [
       "<Figure size 432x288 with 1 Axes>"
      ]
     },
     "metadata": {
      "needs_background": "light"
     },
     "output_type": "display_data"
    }
   ],
   "source": [
    "# Categorize into subgroups based on time differences\n",
    "categories = ['Before', 'Simultaneous', 'After']\n",
    "before_count = len(data[data[\"Centre Point Loss to VA Decline\"] < 0])\n",
    "simultaneous_count = len(data[data[\"Centre Point Loss to VA Decline\"] == 0])\n",
    "after_count = len(data[data[\"Centre Point Loss to VA Decline\"] > 0])\n",
    "\n",
    "va_decline_counts = [before_count, simultaneous_count, after_count]\n",
    "\n",
    "# Create a bar graph with subgroups\n",
    "fig, ax = plt.subplots()\n",
    "bar_width = 0.4\n",
    "bar_positions = range(len(categories))\n",
    "\n",
    "# Plot the bar graph for VA decline counts\n",
    "ax.bar(bar_positions, va_decline_counts, bar_width, label='VA Decline', color='blue')\n",
    "\n",
    "# Customize the plot\n",
    "ax.set_xlabel('Categories of VA Decline Relative to Disease Occurrence')\n",
    "ax.set_ylabel('Number of Cases')\n",
    "ax.set_title('VA Decline Subgroups')\n",
    "ax.set_xticks(bar_positions)\n",
    "ax.set_xticklabels(categories)\n",
    "ax.legend()\n",
    "\n",
    "plt.tight_layout()\n",
    "plt.show()"
   ]
  },
  {
   "cell_type": "markdown",
   "metadata": {},
   "source": [
    "### 2. Statistical analysis - Paired t-test\n",
    "Paired t-test to check whether 'foveal centre point loss to VA decline' [difference between two events] is significantly different from 0 "
   ]
  },
  {
   "cell_type": "code",
   "execution_count": 72,
   "metadata": {},
   "outputs": [
    {
     "name": "stdout",
     "output_type": "stream",
     "text": [
      "p_value is: 0.002316603243992738\n"
     ]
    }
   ],
   "source": [
    "_, p_value = stats.ttest_rel(data[\"Centre Point Loss to VA Decline\"],[0]*len(data))\n",
    "print('p_value is:', p_value)"
   ]
  },
  {
   "cell_type": "markdown",
   "metadata": {},
   "source": [
    "Given this scenario, we can conclude that the first centre point loss and VA decline don't occur simultaneously. "
   ]
  },
  {
   "cell_type": "markdown",
   "metadata": {},
   "source": [
    "## Hypothesis 2\n",
    "Do clinicians define subfoveal macular atrophy based on VA decline or the first loss of foveal centre point?\n",
    "### 1. Statistical analysis - Contingency table\n",
    "Check whether Clinical diagnosis of subfoveal macular atrophy happen simulatneously with centre point loss, VA decline, or not simultaneously with either event. \n"
   ]
  },
  {
   "cell_type": "code",
   "execution_count": 83,
   "metadata": {},
   "outputs": [
    {
     "data": {
      "image/png": "[encoded data removed]",
      "text/plain": [
       "<Figure size 432x288 with 1 Axes>"
      ]
     },
     "metadata": {
      "needs_background": "light"
     },
     "output_type": "display_data"
    }
   ],
   "source": [
    "categories = ['With Centre Point Loss', 'With VA Decline','Not occuring same time']\n",
    "WCPL_count = len(data[data[\"Centre Point Loss to Clinical Diagnosis\"] == 0])\n",
    "WVAD_count = len(data[data[\"VA Decline to Clinical Diagnosis\"] == 0])\n",
    "NS_count = len(data[data[\"VA Decline to Clinical Diagnosis\"] == 0]) + len(data[data[\"Centre Point Loss to Clinical Diagnosis\"] == 0])\n",
    "\n",
    "\n",
    "clinical_diagnosis_counts = [WCPL_count, WVAD_count, NS_count]\n",
    "\n",
    "# Create a bar graph with subgroups\n",
    "fig, ax = plt.subplots()\n",
    "bar_width = 0.4\n",
    "bar_positions = range(len(categories))\n",
    "\n",
    "# Plot the bar graph for VA decline counts\n",
    "ax.bar(bar_positions, clinical_diagnosis_counts, bar_width, label='Clinical Diagnosis', color='red')\n",
    "\n",
    "# Customize the plot\n",
    "ax.set_xlabel('Categories of Clinical Diagnosis Respective to Two Events')\n",
    "ax.set_ylabel('Number of Cases')\n",
    "ax.set_title('Clinical Diagnosis Subgroups')\n",
    "ax.set_xticks(bar_positions)\n",
    "ax.set_xticklabels(categories)\n",
    "ax.legend()\n",
    "\n",
    "plt.tight_layout()\n",
    "plt.show()"
   ]
  },
  {
   "cell_type": "markdown",
   "metadata": {},
   "source": [
    "### 2. Statistical analysis - Paired t-test\n",
    "- Check the mean difference between 'foveal centre involvement to clinical diagnosis' and 'VA decline to clinical diagnosis'\n",
    "- Paired t-test for the two time difference\n",
    "- Subplot each patient's difference "
   ]
  },
  {
   "cell_type": "code",
   "execution_count": 60,
   "metadata": {},
   "outputs": [
    {
     "name": "stdout",
     "output_type": "stream",
     "text": [
      "mean_disease_to_diagnosis 1.2666666666666666\n",
      "p_value is: 0.016007131627535788 \n",
      "\n",
      "mean_va_to_diagnosis -0.6666666666666666\n",
      "p_value is: 0.08585549266170846\n"
     ]
    }
   ],
   "source": [
    "mean_disease_to_diagnosis = data[\"Centre Point Loss to Clinical Diagnosis\"].mean()\n",
    "mean_va_to_diagnosis = data[\"VA Decline to Clinical Diagnosis\"].mean()\n",
    "\n",
    "_, p_value1 = stats.ttest_rel(data[\"Centre Point Loss to Clinical Diagnosis\"],[0]*len(data))\n",
    "print('mean_disease_to_diagnosis',mean_disease_to_diagnosis)\n",
    "print('p_value is:', p_value1,'\\n')\n",
    "\n",
    "_, p_value2 = stats.ttest_rel(data[\"VA Decline to Clinical Diagnosis\"],[0]*len(data))\n",
    "print('mean_va_to_diagnosis',mean_va_to_diagnosis)\n",
    "print('p_value is:', p_value2)\n",
    "\n",
    "\n"
   ]
  },
  {
   "cell_type": "markdown",
   "metadata": {},
   "source": [
    "### Subplot for individual data"
   ]
  },
  {
   "cell_type": "code",
   "execution_count": 37,
   "metadata": {},
   "outputs": [
    {
     "data": {
      "image/png": "[encoded data removed]",
      "text/plain": [
       "<Figure size 432x288 with 1 Axes>"
      ]
     },
     "metadata": {
      "needs_background": "light"
     },
     "output_type": "display_data"
    }
   ],
   "source": [
    "fig, ax = plt.subplots()\n",
    "data.plot(x=\"Patient\", y=[\"Disease to Clinical Diagnosis\", \"VA Decline to Clinical Diagnosis\"], kind=\"bar\", ax=ax)\n",
    "ax.axhline(mean_disease_to_diagnosis, color='red', linestyle='--', label='Mean Disease to Clinical Diagnosis')\n",
    "ax.axhline(mean_va_to_diagnosis, color='blue', linestyle='--', label='Mean VA Decline to Clinical Diagnosis')\n",
    "ax.set_ylabel(\"Time Difference (months)\")\n",
    "ax.set_xlabel(\"Patient\")\n",
    "ax.legend()\n",
    "plt.show()"
   ]
  }
 ],
 "metadata": {
  "kernelspec": {
   "display_name": "ml",
   "language": "python",
   "name": "python3"
  },
  "language_info": {
   "codemirror_mode": {
    "name": "ipython",
    "version": 3
   },
   "file_extension": ".py",
   "mimetype": "text/x-python",
   "name": "python",
   "nbconvert_exporter": "python",
   "pygments_lexer": "ipython3",
   "version": "3.9.7"
  },
  "orig_nbformat": 4
 },
 "nbformat": 4,
 "nbformat_minor": 2
}
